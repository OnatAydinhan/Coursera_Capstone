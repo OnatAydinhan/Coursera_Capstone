{
 "cells": [
  {
   "cell_type": "markdown",
   "metadata": {},
   "source": [
    "# A Guide for Turkish People in New York"
   ]
  },
  {
   "cell_type": "markdown",
   "metadata": {},
   "source": [
    "### by Afsar Onat Aydinhan"
   ]
  },
  {
   "cell_type": "markdown",
   "metadata": {},
   "source": [
    "# 1. Introduction/Business Problem"
   ]
  },
  {
   "cell_type": "markdown",
   "metadata": {},
   "source": [
    "New York is a very popular destination for tourists and Turkish people are no exception. There are so many places to visit and so many things to do in New York. However, there is a downside of having so many choices and that is not being able to decide where to actually go, book a hotel/house! The main aim of this project is to analyze the city of New York and determine locations that might be of interest for Turkish tourists, so they can make an informed decision about where to actually stay and/or go in New York. The stakeholders would be interested in this project, because it might be too hard or time-consuming to do such an analysis by themselves and the results of this analysis can actually improve their vacation in New York"
   ]
  },
  {
   "cell_type": "code",
   "execution_count": null,
   "metadata": {},
   "outputs": [],
   "source": []
  }
 ],
 "metadata": {
  "kernelspec": {
   "display_name": "Python 3",
   "language": "python",
   "name": "python3"
  },
  "language_info": {
   "codemirror_mode": {
    "name": "ipython",
    "version": 3
   },
   "file_extension": ".py",
   "mimetype": "text/x-python",
   "name": "python",
   "nbconvert_exporter": "python",
   "pygments_lexer": "ipython3",
   "version": "3.7.6"
  }
 },
 "nbformat": 4,
 "nbformat_minor": 4
}
