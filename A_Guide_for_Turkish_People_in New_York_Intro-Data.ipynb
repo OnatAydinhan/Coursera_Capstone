{
 "cells": [
  {
   "cell_type": "markdown",
   "metadata": {},
   "source": [
    "# A Guide for Turkish People in New York"
   ]
  },
  {
   "cell_type": "markdown",
   "metadata": {},
   "source": [
    "### by Afsar Onat Aydinhan"
   ]
  },
  {
   "cell_type": "markdown",
   "metadata": {},
   "source": [
    "# 1. Introduction/Business Problem"
   ]
  },
  {
   "cell_type": "markdown",
   "metadata": {},
   "source": [
    "New York is a very popular destination for tourists and Turkish people are no exception. There are so many places to visit and so many things to do in New York. However, there is a downside of having so many choices and that is not being able to decide where to actually go, book a hotel/house! The main aim of this project is to analyze the city of New York and determine locations that might be of interest for Turkish tourists, so they can make an informed decision about where to actually stay and/or go in New York. The stakeholders would be interested in this project, because it might be too hard or time-consuming to do such an analysis by themselves and the results of this analysis can actually improve their vacation in New York. As a Turk myself, I am also motivated and interested about this project and hope to use it to recommoned places in New York to my friends."
   ]
  },
  {
   "cell_type": "markdown",
   "metadata": {},
   "source": [
    "# 2.Data"
   ]
  },
  {
   "cell_type": "markdown",
   "metadata": {},
   "source": [
    "We will scrape our data about New York from the following link: https://cocl.us/new_york_dataset\n",
    "\n",
    "The columns that we are going to use from the data that we scrape are as follows:\n",
    "\n",
    "1. Borough\n",
    "2. Neighborhood\n",
    "3. Latitude\n",
    "4. Longitude\n",
    "\n",
    "So basically, we get a list of boroughs, the neighborhood that they belong to and their geographical coordinates. We will build different maps to visualize our results, therefore the geographical data will be crucial to our analysis."
   ]
  },
  {
   "cell_type": "markdown",
   "metadata": {},
   "source": [
    "We also need information about venues in the neighborhoods in order to be able to determine which places may attract Turkish people.\n",
    "We will use the Foursquare API to gather information about the venues."
   ]
  },
  {
   "cell_type": "markdown",
   "metadata": {},
   "source": [
    "The columns of data that we are interested in from the Foursquare API is as follows:\n",
    "\n",
    "1. Neighborhood\n",
    "2. Neighborhood Latitude\n",
    "3. Neighborhood Longitude\n",
    "4. Venue\n",
    "5. Venue Category"
   ]
  },
  {
   "cell_type": "markdown",
   "metadata": {},
   "source": [
    "Once we merge the datasets described above, we will end up with venues in different neighborhoods in New York city and that will be the main core data that we will use to analyse New York City to find places that can attract Turkish people."
   ]
  },
  {
   "cell_type": "code",
   "execution_count": null,
   "metadata": {},
   "outputs": [],
   "source": []
  }
 ],
 "metadata": {
  "kernelspec": {
   "display_name": "Python 3",
   "language": "python",
   "name": "python3"
  },
  "language_info": {
   "codemirror_mode": {
    "name": "ipython",
    "version": 3
   },
   "file_extension": ".py",
   "mimetype": "text/x-python",
   "name": "python",
   "nbconvert_exporter": "python",
   "pygments_lexer": "ipython3",
   "version": "3.7.6"
  }
 },
 "nbformat": 4,
 "nbformat_minor": 4
}
